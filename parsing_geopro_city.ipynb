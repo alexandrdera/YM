{
 "cells": [
  {
   "cell_type": "code",
   "execution_count": 1,
   "metadata": {},
   "outputs": [],
   "source": [
    "import requests\n",
    "from bs4 import BeautifulSoup\n",
    "import pandas as pd\n",
    "from time import sleep"
   ]
  },
  {
   "cell_type": "code",
   "execution_count": 2,
   "metadata": {},
   "outputs": [],
   "source": [
    "# Выбрать город\n",
    "city = \"krd\"\n",
    "city = \"donetsk\"\n",
    "\n",
    "rootUrl = \"https://geometria.ru\"\n",
    "cityUrl = \"city\"\n",
    "outputFilePath = \"D:\\Photo\\output.xlsx\""
   ]
  },
  {
   "cell_type": "code",
   "execution_count": 6,
   "metadata": {},
   "outputs": [],
   "source": [
    "# Получить ссылки на заведения\n",
    "f = open('D:/Photo/index.html', 'r')\n",
    "soup = BeautifulSoup(f, 'lxml')\n",
    "gorod_items = soup.findAll('a', class_=\"g-item__info\")\n",
    "\n",
    "gorod_items_links = []\n",
    "\n",
    "for gorod_items in gorod_items:\n",
    "    link = gorod_items.get('href')\n",
    "    gorod_items_links.append([link])\n",
    "\n",
    "\n",
    "df = pd.DataFrame(gorod_items_links)\n",
    "df.to_excel(\"D:\\Photo\\output_gorod_items.xlsx\")  "
   ]
  },
  {
   "cell_type": "code",
   "execution_count": 4,
   "metadata": {},
   "outputs": [],
   "source": [
    "# Получить ссылки на репортажи\n",
    "reports_links = []\n",
    "for item in gorod_items_links:\n",
    "    r = requests.get(item[0])\n",
    "    soup = BeautifulSoup(r.content, 'lxml')\n",
    "    reports = soup.findAll('a', class_=\"event__content\")\n",
    "\n",
    "    for report in reports:\n",
    "        link = report.get('href')\n",
    "        reports_links.append([rootUrl + link])\n",
    "\n",
    "df = pd.DataFrame(reports_links)\n",
    "df.to_excel(\"D:\\Photo\\output.xlsx\")  "
   ]
  },
  {
   "cell_type": "code",
   "execution_count": 5,
   "metadata": {},
   "outputs": [],
   "source": [
    "# Получить информацию с репортажа\n"
   ]
  }
 ],
 "metadata": {
  "interpreter": {
   "hash": "8fac594bfae6525c0c41b4041d2d72effa188cc8ead05f81b1fab2bb098927fb"
  },
  "kernelspec": {
   "display_name": "Python 3.8.8 ('base')",
   "language": "python",
   "name": "python3"
  },
  "language_info": {
   "codemirror_mode": {
    "name": "ipython",
    "version": 3
   },
   "file_extension": ".py",
   "mimetype": "text/x-python",
   "name": "python",
   "nbconvert_exporter": "python",
   "pygments_lexer": "ipython3",
   "version": "3.8.8"
  },
  "orig_nbformat": 4
 },
 "nbformat": 4,
 "nbformat_minor": 2
}

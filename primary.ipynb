{
 "cells": [
  {
   "cell_type": "code",
   "execution_count": 5,
   "id": "a3815735",
   "metadata": {},
   "outputs": [],
   "source": [
    "import pandas as pd\n",
    "import time as t\n",
    "from pathlib import Path\n",
    "import shutil\n",
    "from zipfile import ZipFile\n",
    "import os\n",
    "import xlwings as xw"
   ]
  },
  {
   "cell_type": "code",
   "execution_count": 6,
   "id": "f6899d66",
   "metadata": {},
   "outputs": [],
   "source": [
    "ts1 = t.time()"
   ]
  },
  {
   "cell_type": "code",
   "execution_count": 7,
   "id": "f1704b3f",
   "metadata": {},
   "outputs": [],
   "source": [
    "file_1c = t.strftime(\"%m%d\") + \"0900.xlsx\"\n",
    "file_path_1c = Path(\"D:/temp/_primary/\", file_1c)\n",
    "cumulative_file = Path(\"D:/Analytik/1_Основное планирование/\", \"01_ИСХОДНИК-НОВ (выгрузка 1С).xlsx\")\n",
    "file_path_out2 = Path(\"D:/temp/\", \"01_ИСХОДНИК-НОВ (выгрузка 1С)_ТЕСТ.xlsx\")"
   ]
  },
  {
   "cell_type": "code",
   "execution_count": 8,
   "id": "52a09c40",
   "metadata": {},
   "outputs": [],
   "source": [
    "df_cf = pd.read_excel(cumulative_file, \"TDSheet\", usecols=\"A:O\", index_col=False)"
   ]
  },
  {
   "cell_type": "code",
   "execution_count": 9,
   "id": "d324bad1",
   "metadata": {},
   "outputs": [
    {
     "name": "stdout",
     "output_type": "stream",
     "text": [
      "Записей в накопетельном файле:  494907\n"
     ]
    }
   ],
   "source": [
    "print(\"Записей в накопетельном файле: \", len(df_cf))"
   ]
  },
  {
   "cell_type": "code",
   "execution_count": 10,
   "id": "2881c51e",
   "metadata": {},
   "outputs": [],
   "source": [
    "df_cf = df_cf.drop(df_cf.loc[df_cf['Категория клиента (св-во Контрагент)'] == \"VIP Прямые продажи\"].index)\n",
    "df_cf = df_cf.drop(df_cf.loc[df_cf['Категория клиента (св-во Контрагент)'] == \"Дистрибьютор\"].index)"
   ]
  },
  {
   "cell_type": "code",
   "execution_count": 11,
   "id": "f40a56aa",
   "metadata": {},
   "outputs": [
    {
     "name": "stdout",
     "output_type": "stream",
     "text": [
      "Последняя запись в накопителе от  2021-11-24 00:00:00\n"
     ]
    }
   ],
   "source": [
    "print(\"Последняя запись в накопителе от \", df_cf[\"По дням\"].max())"
   ]
  },
  {
   "cell_type": "code",
   "execution_count": 12,
   "id": "d1551a7f",
   "metadata": {},
   "outputs": [],
   "source": [
    "file_1c_zip = file_1c.rpartition(\".\")[0]"
   ]
  },
  {
   "cell_type": "code",
   "execution_count": 13,
   "id": "8f86c439",
   "metadata": {
    "scrolled": true
   },
   "outputs": [
    {
     "name": "stdout",
     "output_type": "stream",
     "text": [
      "Файл перепакован из-за ошибки: \"There is no item named 'xl/sharedStrings.xml' in the archive\"\n"
     ]
    }
   ],
   "source": [
    "try:\n",
    "    df_1с = pd.read_excel(file_path_1c, header = 7, usecols=\"B:P\", index_col=False)\n",
    "except KeyError as ke:\n",
    "    # Создаем временную папку\n",
    "    tmp_folder = Path('D:/temp/convert_wrong_excel/')\n",
    "    os.makedirs(tmp_folder, exist_ok=True)\n",
    "\n",
    "    # Распаковываем excel как zip в нашу временную папку\n",
    "    with ZipFile(file_path_1c) as excel_container:\n",
    "        excel_container.extractall(tmp_folder)\n",
    "\n",
    "    # Переименовываем файл с неверным названием\n",
    "    wrong_file_path = os.path.join(tmp_folder, 'xl', 'SharedStrings.xml')\n",
    "    correct_file_path = os.path.join(tmp_folder, 'xl', 'sharedStrings.xml')\n",
    "\n",
    "    os.rename(wrong_file_path, correct_file_path)\n",
    "\n",
    "    # Запаковываем excel обратно в zip, перемещаем и переименовываем в исходный файл\n",
    "    shutil.make_archive(file_1c_zip, 'zip', tmp_folder)\n",
    "    shutil.move(os.path.realpath(file_1c_zip + \".zip\"), str(file_path_1c))\n",
    "    \n",
    "    print(\"Файл перепакован из-за ошибки: \"  + str(ke))\n",
    "\n",
    "    df_1с = pd.read_excel(file_path_1c, header = 7, usecols=\"B:P\", index_col=False)"
   ]
  },
  {
   "cell_type": "code",
   "execution_count": 14,
   "id": "eb83003b",
   "metadata": {},
   "outputs": [
    {
     "name": "stdout",
     "output_type": "stream",
     "text": [
      "Из 1с загружено строк:  160698\n"
     ]
    }
   ],
   "source": [
    "print(\"Из 1с загружено строк: \", len(df_1с))"
   ]
  },
  {
   "cell_type": "code",
   "execution_count": 15,
   "id": "a2e24459",
   "metadata": {},
   "outputs": [],
   "source": [
    "df_1с = df_1с.rename(columns={'Контрагент (категории)':'Категория клиента (св-во Контрагент)',\n",
    "                     'Пользователь':'Основной менеджер покупателя'})"
   ]
  },
  {
   "cell_type": "code",
   "execution_count": 16,
   "id": "91174106",
   "metadata": {},
   "outputs": [],
   "source": [
    "df_1с[\"По дням\"] = pd.to_datetime(df_1с[\"По дням\"], format=\"%d.%m.%Y\")"
   ]
  },
  {
   "cell_type": "code",
   "execution_count": 17,
   "id": "509c873c",
   "metadata": {},
   "outputs": [],
   "source": [
    "df_vip1 = df_1с.loc[df_1с['Категория клиента (св-во Контрагент)'] == \"VIP Прямые продажи\"]\n",
    "df_vip2 = df_1с.loc[df_1с['Категория клиента (св-во Контрагент)'] == \"Дистрибьютор\"]\n",
    "\n",
    "df_vip = pd.concat([df_vip1, df_vip2])"
   ]
  },
  {
   "cell_type": "code",
   "execution_count": 18,
   "id": "be1c4030",
   "metadata": {},
   "outputs": [
    {
     "name": "stdout",
     "output_type": "stream",
     "text": [
      "Последняя запись в базе 1с от  2021-11-30 00:00:00\n"
     ]
    }
   ],
   "source": [
    "df_1с = df_1с.drop(df_1с.loc[df_1с['Категория клиента (св-во Контрагент)'] == \"VIP Прямые продажи\"].index)\n",
    "df_1c_retail = df_1с.drop(df_1с.loc[df_1с['Категория клиента (св-во Контрагент)'] == \"Дистрибьютор\"].index)\n",
    "print(\"Последняя запись в базе 1с от \", df_1c_retail[\"По дням\"].max())"
   ]
  },
  {
   "cell_type": "code",
   "execution_count": 19,
   "id": "649c84ad",
   "metadata": {},
   "outputs": [],
   "source": [
    "df_cf_new = pd.concat([df_cf,\n",
    "                       df_vip,\n",
    "                       df_1c_retail.loc[df_1c_retail[\"По дням\"] > df_cf[\"По дням\"].max()]\n",
    "                      ])"
   ]
  },
  {
   "cell_type": "code",
   "execution_count": 20,
   "id": "a9bc0b0d",
   "metadata": {},
   "outputs": [],
   "source": [
    "df_cf_new = df_cf_new.dropna(subset = [\"Количество (в ед. отчетов)\"])"
   ]
  },
  {
   "cell_type": "code",
   "execution_count": 21,
   "id": "d520d408",
   "metadata": {},
   "outputs": [],
   "source": [
    "df_cf_new.loc[df_cf_new[\"Контрагент\"] == \"Конечный оптовый покупатель\", [\"Грузополучатель\"]] = \"\""
   ]
  },
  {
   "cell_type": "code",
   "execution_count": 22,
   "id": "2e12c1f3",
   "metadata": {},
   "outputs": [],
   "source": [
    "df_obj = df_cf_new.select_dtypes(['object'])\n",
    "df_cf_new[df_obj.columns] = df_obj.apply(lambda x: x.str.strip())"
   ]
  },
  {
   "cell_type": "code",
   "execution_count": 24,
   "id": "328ff963",
   "metadata": {},
   "outputs": [
    {
     "data": {
      "text/plain": [
       "'\\nwb.close()\\napp_excel.kill()\\ndel app_excel\\n'"
      ]
     },
     "execution_count": 24,
     "metadata": {},
     "output_type": "execute_result"
    }
   ],
   "source": [
    "app_excel = xw.App(visible = True)\n",
    "\n",
    "wb = xw.Book(cumulative_file)\n",
    "ws = wb.sheets['TDSheet']\n",
    "ws.range('A1').options(pd.DataFrame, index=False).value = df_cf_new\n",
    "\n",
    "wb.api.RefreshAll()\n",
    "wb.save()\n",
    "\n",
    "\n",
    "# kill Excel process\n",
    "'''\n",
    "wb.close()\n",
    "app_excel.kill()\n",
    "del app_excel\n",
    "'''"
   ]
  },
  {
   "cell_type": "code",
   "execution_count": null,
   "id": "5c839bc0",
   "metadata": {},
   "outputs": [],
   "source": [
    "#df_cf_new.to_excel(file_path_out2, sheet_name=\"TDSheet\")"
   ]
  },
  {
   "cell_type": "code",
   "execution_count": null,
   "id": "64c0e5c9",
   "metadata": {},
   "outputs": [
    {
     "name": "stdout",
     "output_type": "stream",
     "text": [
      "Строк в новом файле:  148061\n"
     ]
    }
   ],
   "source": [
    "print(\"Строк в новом файле: \", len(df_cf_new))"
   ]
  },
  {
   "cell_type": "code",
   "execution_count": null,
   "id": "96063284",
   "metadata": {},
   "outputs": [
    {
     "name": "stdout",
     "output_type": "stream",
     "text": [
      "Время выполнения  1042.4942450523376\n"
     ]
    }
   ],
   "source": [
    "print(\"Время выполнения \", t.time() - ts1)"
   ]
  }
 ],
 "metadata": {
  "kernelspec": {
   "display_name": "Python 3",
   "language": "python",
   "name": "python3"
  },
  "language_info": {
   "codemirror_mode": {
    "name": "ipython",
    "version": 3
   },
   "file_extension": ".py",
   "mimetype": "text/x-python",
   "name": "python",
   "nbconvert_exporter": "python",
   "pygments_lexer": "ipython3",
   "version": "3.8.8"
  }
 },
 "nbformat": 4,
 "nbformat_minor": 5
}

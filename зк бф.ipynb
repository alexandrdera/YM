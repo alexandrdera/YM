{
 "cells": [
  {
   "cell_type": "code",
   "execution_count": 1,
   "id": "c1672ee1",
   "metadata": {},
   "outputs": [],
   "source": [
    "import pandas as pd\n",
    "import time as t\n",
    "from pathlib import Path"
   ]
  },
  {
   "cell_type": "code",
   "execution_count": 2,
   "id": "c4ef4b2e",
   "metadata": {},
   "outputs": [],
   "source": [
    "start_time = t.time()"
   ]
  },
  {
   "cell_type": "code",
   "execution_count": 12,
   "id": "72270ddd",
   "metadata": {},
   "outputs": [
    {
     "data": {
      "text/plain": [
       "WindowsPath('D:/temp/зк бф.xlsx')"
      ]
     },
     "execution_count": 12,
     "metadata": {},
     "output_type": "execute_result"
    }
   ],
   "source": [
    "path1 = Path('D:/temp/', 'зк бф.xlsx')\n",
    "path2 = Path('D:/temp/', 'зк бф мод.xlsx')"
   ]
  },
  {
   "cell_type": "code",
   "execution_count": 4,
   "id": "b08bc7af",
   "metadata": {},
   "outputs": [
    {
     "name": "stderr",
     "output_type": "stream",
     "text": [
      "C:\\Users\\User\\anaconda3\\lib\\site-packages\\openpyxl\\styles\\stylesheet.py:221: UserWarning: Workbook contains no default style, apply openpyxl's default\n",
      "  warn(\"Workbook contains no default style, apply openpyxl's default\")\n"
     ]
    }
   ],
   "source": [
    "df = pd.read_excel(path1)"
   ]
  },
  {
   "cell_type": "code",
   "execution_count": 5,
   "id": "608409bd",
   "metadata": {
    "scrolled": true
   },
   "outputs": [],
   "source": [
    "tail = df.tail(1).index\n",
    "df = df.drop(0)\n",
    "df = df.drop(tail)"
   ]
  },
  {
   "cell_type": "code",
   "execution_count": 6,
   "id": "241a3f67",
   "metadata": {},
   "outputs": [],
   "source": [
    "df = df.melt(['Unnamed: 0','Unnamed: 1','Unnamed: 2','Unnamed: 3','Unnamed: 4','Unnamed: 5'])"
   ]
  },
  {
   "cell_type": "code",
   "execution_count": 7,
   "id": "c06a35ed",
   "metadata": {},
   "outputs": [],
   "source": [
    "df = df.dropna()"
   ]
  },
  {
   "cell_type": "code",
   "execution_count": 8,
   "id": "2cea426a",
   "metadata": {},
   "outputs": [],
   "source": [
    "df = df.rename(columns={'Unnamed: 0':'Отдел продаж',\n",
    "                   'Unnamed: 1':'Подразделение',\n",
    "                   'Unnamed: 2':'Должность ТА',\n",
    "                   'Unnamed: 3':'ФИО ТА',\n",
    "                   'Unnamed: 4':'СПД',\n",
    "                   'Unnamed: 5':'РТТ',\n",
    "                   'variable':'Дата',\n",
    "                   'value':'Сумма реализации-возврат с НДС'\n",
    "                  })"
   ]
  },
  {
   "cell_type": "code",
   "execution_count": 9,
   "id": "74b8d39c",
   "metadata": {},
   "outputs": [],
   "source": [
    "df.to_excel(path2, index=0)"
   ]
  },
  {
   "cell_type": "code",
   "execution_count": 10,
   "id": "7bfa1566",
   "metadata": {},
   "outputs": [
    {
     "data": {
      "text/plain": [
       "11.500017642974854"
      ]
     },
     "execution_count": 10,
     "metadata": {},
     "output_type": "execute_result"
    }
   ],
   "source": [
    "t.time() - start_time"
   ]
  },
  {
   "cell_type": "code",
   "execution_count": 11,
   "id": "41e0b2d3",
   "metadata": {},
   "outputs": [],
   "source": [
    "# удалить строки без сумм\n",
    "# в PQ версии уйти от привязки к месяцу"
   ]
  }
 ],
 "metadata": {
  "kernelspec": {
   "display_name": "Python 3",
   "language": "python",
   "name": "python3"
  },
  "language_info": {
   "codemirror_mode": {
    "name": "ipython",
    "version": 3
   },
   "file_extension": ".py",
   "mimetype": "text/x-python",
   "name": "python",
   "nbconvert_exporter": "python",
   "pygments_lexer": "ipython3",
   "version": "3.8.8"
  }
 },
 "nbformat": 4,
 "nbformat_minor": 5
}

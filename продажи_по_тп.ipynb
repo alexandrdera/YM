{
 "cells": [
  {
   "cell_type": "code",
   "execution_count": 1,
   "id": "03303388",
   "metadata": {},
   "outputs": [],
   "source": [
    "import pandas as pd\n",
    "import time\n",
    "from pathlib import Path"
   ]
  },
  {
   "cell_type": "code",
   "execution_count": 2,
   "id": "80be788e",
   "metadata": {},
   "outputs": [],
   "source": [
    "start_time = time.time()"
   ]
  },
  {
   "cell_type": "code",
   "execution_count": 3,
   "id": "1d588235",
   "metadata": {},
   "outputs": [],
   "source": [
    "path1 = Path('D:/temp/', 'продажи по тп.xlsx')\n",
    "path2 = Path('D:/temp/', 'исх.xlsx')\n",
    "\n",
    "df = pd.read_excel(path1, header=1)"
   ]
  },
  {
   "cell_type": "code",
   "execution_count": 4,
   "id": "22ac4f05",
   "metadata": {},
   "outputs": [],
   "source": [
    "# Удаляем последнюю строку датафрейма\n",
    "last_row_index = df.tail(1).index\n",
    "df = df.drop(index = last_row_index)"
   ]
  },
  {
   "cell_type": "code",
   "execution_count": 5,
   "id": "2284a35c",
   "metadata": {},
   "outputs": [],
   "source": [
    "# Исключаем возвраты без продаж\n",
    "df2 = df.loc[df['Сумма реализации-возврат с НДС'] > 0]"
   ]
  },
  {
   "cell_type": "code",
   "execution_count": 6,
   "id": "56460367",
   "metadata": {},
   "outputs": [],
   "source": [
    "df2 = df2.drop(columns = ['Отдел продаж', 'Тип товара дистрибьютора', 'Тип товара производителя', 'Вес реализации-возврат, кг'])"
   ]
  },
  {
   "cell_type": "code",
   "execution_count": 7,
   "id": "98878193",
   "metadata": {},
   "outputs": [],
   "source": [
    "# Кол-во записей на 1 РТТ\n",
    "df3 = df2.groupby(by = ['Подразделение', 'Должность ТА', 'ФИО ТА', 'РТТ', ])['Сумма реализации-возврат с НДС'].agg(['count'])\n",
    "df3['count'] = 1 / df3['count']"
   ]
  },
  {
   "cell_type": "code",
   "execution_count": 8,
   "id": "d083723a",
   "metadata": {},
   "outputs": [],
   "source": [
    "df4 = df.merge(df3, how='left', on = ['Подразделение', 'Должность ТА', 'ФИО ТА', 'РТТ'])"
   ]
  },
  {
   "cell_type": "code",
   "execution_count": 9,
   "id": "83120532",
   "metadata": {},
   "outputs": [],
   "source": [
    "df4.to_excel(path2, sheet_name = '_исх', index = False)"
   ]
  },
  {
   "cell_type": "code",
   "execution_count": 10,
   "id": "c628244d",
   "metadata": {},
   "outputs": [
    {
     "data": {
      "text/plain": [
       "23.697049617767334"
      ]
     },
     "execution_count": 10,
     "metadata": {},
     "output_type": "execute_result"
    }
   ],
   "source": [
    "time.time() - start_time"
   ]
  }
 ],
 "metadata": {
  "kernelspec": {
   "display_name": "Python 3",
   "language": "python",
   "name": "python3"
  },
  "language_info": {
   "codemirror_mode": {
    "name": "ipython",
    "version": 3
   },
   "file_extension": ".py",
   "mimetype": "text/x-python",
   "name": "python",
   "nbconvert_exporter": "python",
   "pygments_lexer": "ipython3",
   "version": "3.8.8"
  }
 },
 "nbformat": 4,
 "nbformat_minor": 5
}

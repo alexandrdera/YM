{
 "cells": [
  {
   "cell_type": "code",
   "execution_count": 6,
   "id": "c1672ee1",
   "metadata": {},
   "outputs": [],
   "source": [
    "import pandas as pd\n",
    "import time as t\n",
    "from pathlib import Path\n",
    "from xlwings import view"
   ]
  },
  {
   "cell_type": "code",
   "execution_count": 7,
   "id": "c4ef4b2e",
   "metadata": {},
   "outputs": [],
   "source": [
    "start_time = t.time()"
   ]
  },
  {
   "cell_type": "code",
   "execution_count": 8,
   "id": "72270ddd",
   "metadata": {},
   "outputs": [],
   "source": [
    "path1 = Path('D:/temp/', 'зк бф.xlsx')\n",
    "path2 = Path('D:/temp/', 'зк бф мод.xlsx')"
   ]
  },
  {
   "cell_type": "code",
   "execution_count": 9,
   "id": "b08bc7af",
   "metadata": {},
   "outputs": [
    {
     "name": "stderr",
     "output_type": "stream",
     "text": [
      "c:\\Users\\derachic_ai\\anaconda3\\lib\\site-packages\\openpyxl\\styles\\stylesheet.py:221: UserWarning: Workbook contains no default style, apply openpyxl's default\n",
      "  warn(\"Workbook contains no default style, apply openpyxl's default\")\n"
     ]
    }
   ],
   "source": [
    "df = pd.read_excel(path1, header=[0, 1])\n",
    "df = df.drop(df.tail(1).index)\n",
    "view(df)"
   ]
  },
  {
   "cell_type": "code",
   "execution_count": 10,
   "id": "01d0613d",
   "metadata": {},
   "outputs": [
    {
     "data": {
      "text/plain": [
       "9.050735712051392"
      ]
     },
     "execution_count": 10,
     "metadata": {},
     "output_type": "execute_result"
    }
   ],
   "source": [
    "# Сводную таблицу в плоскую\n",
    "id_vars = df.columns[0:6].to_list()\n",
    "value_vars = df.columns[7:].to_list()\n",
    "df = df.melt(id_vars=id_vars, value_vars=value_vars, value_name='Значение', var_name=['Дата', 'Параметр']).dropna()\n",
    "\n",
    "# Преобразование object в date\n",
    "df['Дата'] = pd.to_datetime(df['Дата'], format='%d.%m.%y')\n",
    "\n",
    "# Список полей для переименования\n",
    "columns = []\n",
    "for x in df.columns[0:6]:\n",
    "    columns.append(x[1])    # берем заголовки первого уровня\n",
    "for x in df.columns[6:9]:\n",
    "    columns.append(x)    \n",
    "\n",
    "df.columns = columns\n",
    "\n",
    "df.to_excel(path2, index=False)\n",
    "view(df)\n",
    "t.time() - start_time"
   ]
  },
  {
   "cell_type": "code",
   "execution_count": null,
   "id": "178b1483",
   "metadata": {},
   "outputs": [],
   "source": []
  }
 ],
 "metadata": {
  "kernelspec": {
   "display_name": "base",
   "language": "python",
   "name": "python3"
  },
  "language_info": {
   "codemirror_mode": {
    "name": "ipython",
    "version": 3
   },
   "file_extension": ".py",
   "mimetype": "text/x-python",
   "name": "python",
   "nbconvert_exporter": "python",
   "pygments_lexer": "ipython3",
   "version": "3.8.8"
  },
  "vscode": {
   "interpreter": {
    "hash": "aa115ce318be3a3f8b6d91ff0b01768b0c65c6347d86fae4b9dcf7b7e714cae1"
   }
  }
 },
 "nbformat": 4,
 "nbformat_minor": 5
}

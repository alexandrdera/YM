{
 "cells": [
  {
   "cell_type": "code",
   "execution_count": 34,
   "metadata": {},
   "outputs": [],
   "source": [
    "import requests\n",
    "from bs4 import BeautifulSoup\n",
    "import pandas as pd"
   ]
  },
  {
   "cell_type": "code",
   "execution_count": 35,
   "metadata": {},
   "outputs": [],
   "source": [
    "f = open('D:/Photo/index.html', 'r')\n",
    "\n",
    "soup = BeautifulSoup(f, 'lxml')\n",
    "reports = soup.findAll('a', class_=\"item item--reportage\")\n",
    "\n",
    "data = []\n",
    "\n",
    "for report in reports:\n",
    "    link = report.get('href')\n",
    "    date = report.find('div', class_=\"item__desc-top__date\").text\n",
    "    top_title = report.find('div', class_=\"item__desc-top__title\").text\n",
    "    title = report.find('div', class_=\"item__desc-title\").text\n",
    "\n",
    "    data.append([link, date, top_title, title])\n",
    "\n",
    "\n",
    "df = pd.DataFrame(data)\n",
    "df.to_excel(\"D:\\Photo\\output.xlsx\")  "
   ]
  }
 ],
 "metadata": {
  "interpreter": {
   "hash": "8fac594bfae6525c0c41b4041d2d72effa188cc8ead05f81b1fab2bb098927fb"
  },
  "kernelspec": {
   "display_name": "Python 3.8.8 ('base')",
   "language": "python",
   "name": "python3"
  },
  "language_info": {
   "name": "python",
   "version": "3.8.8"
  },
  "orig_nbformat": 4
 },
 "nbformat": 4,
 "nbformat_minor": 2
}

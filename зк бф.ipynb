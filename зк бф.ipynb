{
 "cells": [
  {
   "cell_type": "code",
   "execution_count": 145,
   "id": "c1672ee1",
   "metadata": {},
   "outputs": [],
   "source": [
    "import pandas as pd\n",
    "import time as t\n",
    "from pathlib import Path"
   ]
  },
  {
   "cell_type": "code",
   "execution_count": 146,
   "id": "c4ef4b2e",
   "metadata": {},
   "outputs": [],
   "source": [
    "start_time = t.time()"
   ]
  },
  {
   "cell_type": "code",
   "execution_count": 147,
   "id": "72270ddd",
   "metadata": {},
   "outputs": [],
   "source": [
    "path1 = Path('D:/temp/', 'зк бф.xlsx')\n",
    "path2 = Path('D:/temp/', 'зк бф мод.xlsx')"
   ]
  },
  {
   "cell_type": "code",
   "execution_count": 148,
   "id": "b08bc7af",
   "metadata": {},
   "outputs": [
    {
     "name": "stderr",
     "output_type": "stream",
     "text": [
      "c:\\Users\\derachic_ai\\anaconda3\\lib\\site-packages\\openpyxl\\styles\\stylesheet.py:221: UserWarning: Workbook contains no default style, apply openpyxl's default\n",
      "  warn(\"Workbook contains no default style, apply openpyxl's default\")\n"
     ]
    }
   ],
   "source": [
    "df = pd.read_excel(path1, header=[0, 1])\n",
    "df = df.drop(df.tail(1).index)"
   ]
  },
  {
   "cell_type": "code",
   "execution_count": 151,
   "id": "01d0613d",
   "metadata": {},
   "outputs": [
    {
     "data": {
      "text/plain": [
       "3.694411277770996"
      ]
     },
     "execution_count": 151,
     "metadata": {},
     "output_type": "execute_result"
    }
   ],
   "source": [
    "# Сводную таблицу в плоскую\n",
    "id_vars = df.columns[0:6].to_list()\n",
    "value_vars = df.columns[7:].to_list()\n",
    "df = df.melt(id_vars=id_vars, value_vars=value_vars, value_name='Значение', var_name=['Дата', 'Параметр']).dropna()\n",
    "\n",
    "# Преобразование object в date\n",
    "df['Дата'] = pd.to_datetime(df['Дата'], format='%d.%m.%y')\n",
    "\n",
    "# Список полей для переименования\n",
    "columns = []\n",
    "for x in df.columns[0:6]:\n",
    "    columns.append(x[1])\n",
    "for x in df.columns[6:9]:\n",
    "    columns.append(x)    \n",
    "\n",
    "df.columns = columns\n",
    "\n",
    "df.to_excel(path2, index=False)\n",
    "\n",
    "t.time() - start_time"
   ]
  }
 ],
 "metadata": {
  "kernelspec": {
   "display_name": "Python 3",
   "language": "python",
   "name": "python3"
  },
  "language_info": {
   "codemirror_mode": {
    "name": "ipython",
    "version": 3
   },
   "file_extension": ".py",
   "mimetype": "text/x-python",
   "name": "python",
   "nbconvert_exporter": "python",
   "pygments_lexer": "ipython3",
   "version": "3.8.8"
  }
 },
 "nbformat": 4,
 "nbformat_minor": 5
}

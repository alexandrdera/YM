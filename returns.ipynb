{
 "cells": [
  {
   "cell_type": "code",
   "execution_count": 1,
   "metadata": {},
   "outputs": [],
   "source": [
    "from pathlib import Path\n",
    "import YM\n",
    "import pandas as pd\n",
    "import os"
   ]
  },
  {
   "cell_type": "code",
   "execution_count": 2,
   "metadata": {},
   "outputs": [
    {
     "name": "stdout",
     "output_type": "stream",
     "text": [
      "\n",
      " возвраты ютл\n",
      "Всего файлов: 1 \n",
      "Обработано: 0\n",
      "\n",
      " возвраты вип\n",
      "Файл перепакован из-за ошибки: \"There is no item named 'xl/sharedStrings.xml' in the archive\"\n",
      "возвраты вип_01122022.xlsx\n",
      "Файл перепакован из-за ошибки: \"There is no item named 'xl/sharedStrings.xml' in the archive\"\n",
      "возвраты вип_02122022.xlsx\n",
      "Файл перепакован из-за ошибки: \"There is no item named 'xl/sharedStrings.xml' in the archive\"\n",
      "возвраты вип_05122022.xlsx\n",
      "Файл перепакован из-за ошибки: \"There is no item named 'xl/sharedStrings.xml' in the archive\"\n",
      "возвраты вип_06122022.xlsx\n",
      "Файл перепакован из-за ошибки: \"There is no item named 'xl/sharedStrings.xml' in the archive\"\n",
      "возвраты вип_07122022.xlsx\n",
      "Файл перепакован из-за ошибки: \"There is no item named 'xl/sharedStrings.xml' in the archive\"\n",
      "возвраты вип_08122022.xlsx\n",
      "Файл перепакован из-за ошибки: \"There is no item named 'xl/sharedStrings.xml' in the archive\"\n",
      "возвраты вип_09122022.xlsx\n",
      "Файл перепакован из-за ошибки: \"There is no item named 'xl/sharedStrings.xml' in the archive\"\n",
      "возвраты вип_12122022.xlsx\n",
      "Всего файлов: 30 \n",
      "Обработано: 8\n",
      "\n",
      " ФО\n",
      "Всего файлов: 0 \n",
      "Обработано: 0\n",
      "\n",
      " все_вовзраты\n",
      "Файл перепакован из-за ошибки: \"There is no item named 'xl/sharedStrings.xml' in the archive\"\n",
      "все возвраты_01122022.xlsx\n",
      "Файл перепакован из-за ошибки: \"There is no item named 'xl/sharedStrings.xml' in the archive\"\n",
      "все возвраты_02122022.xlsx\n",
      "Файл перепакован из-за ошибки: \"There is no item named 'xl/sharedStrings.xml' in the archive\"\n",
      "все возвраты_05122022.xlsx\n",
      "Файл перепакован из-за ошибки: \"There is no item named 'xl/sharedStrings.xml' in the archive\"\n",
      "все возвраты_06122022.xlsx\n",
      "Файл перепакован из-за ошибки: \"There is no item named 'xl/sharedStrings.xml' in the archive\"\n",
      "все возвраты_07122022.xlsx\n",
      "Файл перепакован из-за ошибки: \"There is no item named 'xl/sharedStrings.xml' in the archive\"\n",
      "все возвраты_08122022.xlsx\n",
      "Файл перепакован из-за ошибки: \"There is no item named 'xl/sharedStrings.xml' in the archive\"\n",
      "все возвраты_09122022.xlsx\n",
      "Файл перепакован из-за ошибки: \"There is no item named 'xl/sharedStrings.xml' in the archive\"\n",
      "все возвраты_12122022.xlsx\n",
      "Всего файлов: 30 \n",
      "Обработано: 8\n"
     ]
    }
   ],
   "source": [
    "file_path_returns = Path(\"D:\\\\temp\\_возвраты\")\n",
    "\n",
    "for folder in file_path_returns.iterdir(): \n",
    "   if folder.is_dir() and folder.stem != \"__удалить\":\n",
    "        print(\"\\n\", folder.name)\n",
    "        i=j=0\n",
    "        for file in folder.iterdir():\n",
    "            i+=1\n",
    "            if file.suffix == \".xlsx\" and not file.name.startswith(\"Копия \"):\n",
    "                j+=1\n",
    "                df = YM.read_excel_from_1c(file)       \n",
    "                \n",
    "                # Удаление пробелов в текстовых колонках\n",
    "                if folder.stem == \"возвраты вип\" or folder.stem == \"возвраты ютл\":\n",
    "                    df_strip = df.iloc[:, 0:10].select_dtypes(\"object\")\n",
    "                    df[df_strip.columns] = df_strip.apply(lambda x: x.str.strip())\n",
    "                elif folder.stem == \"все_вовзраты\":\n",
    "                    df_strip = df.iloc[:, 0:7].select_dtypes(\"object\")\n",
    "                    df[df_strip.columns] = df_strip.apply(lambda x: x.str.strip())\n",
    "                elif folder.stem == \"ФО\":\n",
    "                    df_strip = df.iloc[:, 0:6].select_dtypes(\"object\")\n",
    "                    df[df_strip.columns] = df_strip.apply(lambda x: x.str.strip())\n",
    "\n",
    "                df.to_excel(Path(folder, \"Копия \" + file.name), sheet_name=\"TDSheet\", header=1, index=False)\n",
    "                os.remove(file)\n",
    "                print(file.name)\n",
    "        print(\"Всего файлов:\", i, \"\\nОбработано:\", j)\n"
   ]
  },
  {
   "cell_type": "code",
   "execution_count": null,
   "metadata": {},
   "outputs": [],
   "source": []
  }
 ],
 "metadata": {
  "kernelspec": {
   "display_name": "Python 3.8.8 ('base')",
   "language": "python",
   "name": "python3"
  },
  "language_info": {
   "codemirror_mode": {
    "name": "ipython",
    "version": 3
   },
   "file_extension": ".py",
   "mimetype": "text/x-python",
   "name": "python",
   "nbconvert_exporter": "python",
   "pygments_lexer": "ipython3",
   "version": "3.8.8 (default, Apr 13 2021, 15:08:03) [MSC v.1916 64 bit (AMD64)]"
  },
  "orig_nbformat": 4,
  "vscode": {
   "interpreter": {
    "hash": "aa115ce318be3a3f8b6d91ff0b01768b0c65c6347d86fae4b9dcf7b7e714cae1"
   }
  }
 },
 "nbformat": 4,
 "nbformat_minor": 2
}

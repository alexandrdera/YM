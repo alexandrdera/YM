{
 "cells": [
  {
   "cell_type": "code",
   "execution_count": 1,
   "id": "a3815735",
   "metadata": {},
   "outputs": [],
   "source": [
    "import pandas as pd\n",
    "import time as t\n",
    "from pathlib import Path\n",
    "import xlwings as xw\n",
    "import YM \n",
    "from shutil import copyfile"
   ]
  },
  {
   "cell_type": "code",
   "execution_count": 2,
   "id": "f6899d66",
   "metadata": {},
   "outputs": [],
   "source": [
    "ts1 = t.time()"
   ]
  },
  {
   "cell_type": "code",
   "execution_count": 3,
   "id": "f1704b3f",
   "metadata": {},
   "outputs": [],
   "source": [
    "file_1c = t.strftime(\"%m%d\") + \"0900.xlsx\"\n",
    "file_path_1c = Path(\"D:/temp/__удалить/\", file_1c)\n",
    "file_path_cumulative = Path(\"D:/Analytik/1_Основное планирование/\", \"01_ИСХОДНИК-НОВ (выгрузка 1С).xlsx\")\n",
    "file_path_out_test = Path(\"D:/temp/\", \"01_ИСХОДНИК-НОВ (выгрузка 1С)_ТЕСТ.xlsx\")\n",
    "file_path_out_for_Teplitskaya = Path(\"D:\\Общая\\_ИСХ\", \"01_ИСХОДНИК-НОВ (выгрузка 1С).xlsx\")"
   ]
  },
  {
   "cell_type": "code",
   "execution_count": 4,
   "id": "52a09c40",
   "metadata": {},
   "outputs": [
    {
     "name": "stdout",
     "output_type": "stream",
     "text": [
      "Записей в накопетельном файле:  238037\n",
      "Последняя запись в накопителе от  2022-03-28 00:00:00\n",
      "Файл перепакован из-за ошибки: \"There is no item named 'xl/sharedStrings.xml' in the archive\"\n",
      "Из 1с загружено строк:  95710\n",
      "Последняя запись в базе 1с от  2022-03-29 00:00:00\n",
      "Строк в новом файле:  103891\n",
      "Время выполнения  1320.3253939151764\n"
     ]
    }
   ],
   "source": [
    "df_cf = pd.read_excel(file_path_cumulative, \"TDSheet\", usecols=\"A:O\", index_col=False)\n",
    "print(\"Записей в накопетельном файле: \", len(df_cf))\n",
    "\n",
    "df_cf = df_cf.drop(df_cf.loc[df_cf['Категория клиента (св-во Контрагент)'] == \"VIP Прямые продажи\"].index)\n",
    "df_cf = df_cf.drop(df_cf.loc[df_cf['Категория клиента (св-во Контрагент)'] == \"Дистрибьютор\"].index)\n",
    "print(\"Последняя запись в накопителе от \", df_cf[\"По дням\"].max())\n",
    "\n",
    "df_1c = YM.read_excel_from_1c(file_path_1c, header=7, usecols=\"B:P\", index_col=False)\n",
    "print(\"Из 1с загружено строк: \", len(df_1c))\n",
    "\n",
    "df_1с = df_1c.rename(columns={\n",
    "                    'Контрагент (категории)':'Категория клиента (св-во Контрагент)'\n",
    "                    ,'Пользователь':'Основной менеджер покупателя'\n",
    "                    ,'Сумма продажи в ((2 грн))':'Сумма продажи в (грн)'\n",
    "                    ,'Сумма продажи без скидок в ((2 грн))':'Сумма продажи без скидок в (грн)'\n",
    "                    ,'Сумма скидки в ((2 грн))':'Сумма скидки в (грн)'\n",
    "                     })\n",
    "df_1с[\"По дням\"] = pd.to_datetime(df_1с[\"По дням\"], format=\"%d.%m.%Y\")\n",
    "df_vip1 = df_1с.loc[df_1с['Категория клиента (св-во Контрагент)'] == \"VIP Прямые продажи\"]\n",
    "df_vip2 = df_1с.loc[df_1с['Категория клиента (св-во Контрагент)'] == \"Дистрибьютор\"]\n",
    "\n",
    "df_vip = pd.concat([df_vip1, df_vip2])\n",
    "df_1с = df_1с.drop(df_1с.loc[df_1с['Категория клиента (св-во Контрагент)'] == \"VIP Прямые продажи\"].index)\n",
    "df_1c_retail = df_1с.drop(df_1с.loc[df_1с['Категория клиента (св-во Контрагент)'] == \"Дистрибьютор\"].index)\n",
    "print(\"Последняя запись в базе 1с от \", df_1c_retail[\"По дням\"].max())\n",
    "\n",
    "df_cf_new = pd.concat([df_cf,\n",
    "                       df_vip,\n",
    "                       df_1c_retail.loc[df_1c_retail[\"По дням\"] > df_cf[\"По дням\"].max()]\n",
    "                      ])\n",
    "df_cf_new = df_cf_new.dropna(subset = [\"Количество (в ед. отчетов)\"])\n",
    "df_cf_new.loc[df_cf_new[\"Контрагент\"] == \"Конечный оптовый покупатель\", [\"Грузополучатель\"]] = \"\"\n",
    "df_obj = df_cf_new.select_dtypes(['object'])\n",
    "df_cf_new[df_obj.columns] = df_obj.apply(lambda x: x.str.strip())\n",
    "\n",
    "app_excel = xw.App(visible = True)\n",
    "wb = xw.Book(file_path_cumulative)\n",
    "\n",
    "ws = wb.sheets['TDSheet']\n",
    "ws.range('A1').options(pd.DataFrame, index=False).value = df_cf_new\n",
    "wb.api.RefreshAll()\n",
    "wb.save()\n",
    "\n",
    "copyfile(file_path_cumulative, file_path_out_for_Teplitskaya)\n",
    "\n",
    "'''\n",
    "wb.close()\n",
    "app_excel.kill()\n",
    "del app_excel\n",
    "'''\n",
    "\n",
    "print(\"Строк в новом файле: \", len(df_cf_new))\n",
    "print(\"Время выполнения \", t.time() - ts1)"
   ]
  }
 ],
 "metadata": {
  "kernelspec": {
   "display_name": "Python 3",
   "language": "python",
   "name": "python3"
  },
  "language_info": {
   "codemirror_mode": {
    "name": "ipython",
    "version": 3
   },
   "file_extension": ".py",
   "mimetype": "text/x-python",
   "name": "python",
   "nbconvert_exporter": "python",
   "pygments_lexer": "ipython3",
   "version": "3.8.8"
  }
 },
 "nbformat": 4,
 "nbformat_minor": 5
}

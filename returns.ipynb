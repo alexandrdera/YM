{
 "cells": [
  {
   "cell_type": "code",
   "execution_count": 13,
   "metadata": {},
   "outputs": [],
   "source": [
    "from pathlib import Path\n",
    "import YM\n",
    "import pandas as pd\n",
    "import os"
   ]
  },
  {
   "cell_type": "code",
   "execution_count": 22,
   "metadata": {},
   "outputs": [
    {
     "name": "stdout",
     "output_type": "stream",
     "text": [
      "\n",
      " возвраты ютл\n",
      "возвраты ЮТЛ 01-29.11.xlsx\n",
      "Всего файлов: 1 \n",
      "Обработано: 1\n",
      "\n",
      " возвраты вип\n",
      "Всего файлов: 18 \n",
      "Обработано: 0\n",
      "\n",
      " ФО\n",
      "Всего файлов: 18 \n",
      "Обработано: 0\n",
      "\n",
      " все_вовзраты\n",
      "Всего файлов: 19 \n",
      "Обработано: 0\n"
     ]
    }
   ],
   "source": [
    "file_path_returns = Path(\"D:\\\\temp\\_возвраты\")\n",
    "\n",
    "for folder in file_path_returns.iterdir(): \n",
    "   if folder.is_dir() and folder.stem != \"__удалить\":\n",
    "        print(\"\\n\", folder.name)\n",
    "        i=j=0\n",
    "        for file in folder.iterdir():\n",
    "            i+=1\n",
    "            if file.suffix == \".xlsx\" and not file.name.startswith(\"Копия \"):\n",
    "                j+=1\n",
    "                df = YM.read_excel_from_1c(file)       \n",
    "                \n",
    "                # Удаление пробелов в текстовых колонках\n",
    "                if folder.stem == \"возвраты вип\" or folder.stem == \"возвраты ютл\":\n",
    "                    df_strip = df.iloc[:, 0:10].select_dtypes(\"object\")\n",
    "                    df[df_strip.columns] = df_strip.apply(lambda x: x.str.strip())\n",
    "                elif folder.stem == \"все_вовзраты\":\n",
    "                    df_strip = df.iloc[:, 0:7].select_dtypes(\"object\")\n",
    "                    df[df_strip.columns] = df_strip.apply(lambda x: x.str.strip())\n",
    "                elif folder.stem == \"ФО\":\n",
    "                    df_strip = df.iloc[:, 0:6].select_dtypes(\"object\")\n",
    "                    df[df_strip.columns] = df_strip.apply(lambda x: x.str.strip())\n",
    "\n",
    "                df.to_excel(Path(folder, \"Копия \" + file.name), sheet_name=\"TDSheet\", header=1, index=False)\n",
    "                os.remove(file)\n",
    "                print(file.name)\n",
    "        print(\"Всего файлов:\", i, \"\\nОбработано:\", j)\n"
   ]
  },
  {
   "cell_type": "code",
   "execution_count": null,
   "metadata": {},
   "outputs": [],
   "source": []
  }
 ],
 "metadata": {
  "interpreter": {
   "hash": "8fac594bfae6525c0c41b4041d2d72effa188cc8ead05f81b1fab2bb098927fb"
  },
  "kernelspec": {
   "display_name": "Python 3.8.8 64-bit ('base': conda)",
   "language": "python",
   "name": "python3"
  },
  "language_info": {
   "codemirror_mode": {
    "name": "ipython",
    "version": 3
   },
   "file_extension": ".py",
   "mimetype": "text/x-python",
   "name": "python",
   "nbconvert_exporter": "python",
   "pygments_lexer": "ipython3",
   "version": "3.8.8"
  },
  "orig_nbformat": 4
 },
 "nbformat": 4,
 "nbformat_minor": 2
}

{
 "cells": [
  {
   "cell_type": "code",
   "execution_count": 1,
   "metadata": {},
   "outputs": [],
   "source": [
    "import pandas as pd\n",
    "import time as t\n",
    "from pathlib import Path\n",
    "import xlwings as xw\n",
    "from shutil import copyfile"
   ]
  },
  {
   "cell_type": "code",
   "execution_count": 2,
   "metadata": {},
   "outputs": [],
   "source": [
    "ts1 = t.time()"
   ]
  },
  {
   "cell_type": "code",
   "execution_count": 3,
   "metadata": {},
   "outputs": [],
   "source": [
    "time_stamp = t.strftime(\"%d%m%Y\")\n",
    "\n",
    "# Динамика ВИП\n",
    "file_path_VIP_PRS = Path(\"D:/Analytik/1_Динамика ОПП/\", \"__ВИП_ПРС отгрузки по дням.xlsx\")\n",
    "file_path_PRS_by_day = Path(\"D:/Analytik/1_Динамика ОПП/\", \"__Отгрузки ПРС по дням и отделам МИ.xlsx\")\n",
    "# file_path_VIP_OPP_by_TM = Path(\"D:/Analytik/1_Динамика ОПП/\", \"__VIP_ОПП_по ТМ_от_МИ_src_ext.xlsx\")\n",
    "\n",
    "file_path_number_of_orders_briefly_vip = Path(\"D:/Analytik/1_Динамика ОПП/\", \"__ОПП_Кол-во заказов кратко.xlsx\")\n",
    "file_path_number_of_orders_briefly_vip_copy = Path(\"D:/Analytik/1_Динамика ОПП/\", \"_\"+ time_stamp +\"_ОПП_Кол-во заказов кратко.xlsx\")\n",
    "\n",
    "file_path_dinamic_vip = Path(\"D:/Analytik/1_Динамика ОПП/\", \"__ОПП_Динамика продаж-возвраты.xlsx\")\n",
    "file_path_dinamic_vip_copy = Path(\"D:/Analytik/1_Динамика ОПП/\", \"_\"+ time_stamp +\"_ОПП_Динамика продаж-возвраты.xlsx\")\n",
    "\n",
    "# Динамика ФЕРМА\n",
    "file_path_active_tt = Path(\"D:/Analytik/1_Динамика ФЕРМА/\", \"_Активные_Т_Т_с_кол_вом_ТТ_ФЕРМА.xlsx\")\n",
    "file_path_active_tt_copy = Path(\"D:/Analytik/1_Динамика ФЕРМА/\", time_stamp + \"_Активные_Т_Т_с_кол_вом_ТТ_ФЕРМА.xlsx\")\n",
    "\n",
    "file_path_dinamic_ferma = Path(\"D:/Analytik/1_Динамика ФЕРМА/\", \"_Динамика возвраты_ФЕРМА.xlsx\")\n",
    "file_path_dinamic_ferma_copy = Path(\"D:/Analytik/1_Динамика ФЕРМА/\", time_stamp + \"_Динамика возвраты_ФЕРМА.xlsx\")\n",
    "\n",
    "file_path_number_of_orders_briefly_ferma = Path(\"D:/Analytik/1_Динамика ФЕРМА/\", \"_Кол-во заказов кратко_ФЕРМА.xlsx\")\n",
    "file_path_number_of_orders_briefly_ferma_copy = Path(\"D:/Analytik/1_Динамика ФЕРМА/\", time_stamp + \"_Кол-во заказов кратко_ФЕРМА.xlsx\")\n",
    "\n",
    "file_path_fact_by_group = Path(\"D:/Analytik/1_Динамика ФЕРМА/\", \"_Факт по товарным группам_ФЕРМА.xlsx\")\n",
    "file_path_fact_by_group_copy = Path(\"D:/Analytik/1_Динамика ФЕРМА/\", time_stamp + \"_Факт по товарным группам_ФЕРМА.xlsx\")\n",
    "\n",
    "file_path_target_planing = Path(\"D:/Analytik/1_Динамика ФЕРМА/\", \"_Целевое планирование ФЕРМА.xlsx\")\n",
    "file_path_target_planing_copy = Path(\"D:/Analytik/1_Динамика ФЕРМА/\", time_stamp + \"_Целевое планирование ФЕРМА.xlsx\")\n"
   ]
  },
  {
   "cell_type": "code",
   "execution_count": null,
   "metadata": {},
   "outputs": [],
   "source": []
  },
  {
   "cell_type": "code",
   "execution_count": 4,
   "metadata": {},
   "outputs": [
    {
     "data": {
      "text/plain": [
       "' \\napp_excel = xw.App(visible = False)\\nwb = xw.Book(file_path_PRS_by_day)\\nwb.api.RefreshAll()\\nwb.save()\\nwb.close()\\n '"
      ]
     },
     "execution_count": 4,
     "metadata": {},
     "output_type": "execute_result"
    }
   ],
   "source": [
    "# __Отгрузки ПРС по дням и отделам МИ\n",
    "\"\"\" \n",
    "app_excel = xw.App(visible = False)\n",
    "wb = xw.Book(file_path_PRS_by_day)\n",
    "wb.api.RefreshAll()\n",
    "wb.save()\n",
    "wb.close()\n",
    " \"\"\""
   ]
  },
  {
   "cell_type": "code",
   "execution_count": 5,
   "metadata": {},
   "outputs": [
    {
     "data": {
      "text/plain": [
       "' \\nwb = xw.Book(file_path_VIP_PRS)\\nwb.api.RefreshAll()\\nwb.api.ActiveSheet.PivotTables(\"Сводная таблица1\").PivotFields(\"Дата\").ClearAllFilters\\n# wb.api.ActiveSheet.PivotTables(\"Сводная таблица1\").PivotFields(\"Дата\").CurrentPage = t.strftime(\"%d.%m.%Y\") #\"11/3/2022\"\\nwb.save()\\nwb.close() \\n'"
      ]
     },
     "execution_count": 5,
     "metadata": {},
     "output_type": "execute_result"
    }
   ],
   "source": [
    "# __ВИП_ПРС отгрузки по дням\n",
    "\"\"\" \n",
    "wb = xw.Book(file_path_VIP_PRS)\n",
    "wb.api.RefreshAll()\n",
    "wb.api.ActiveSheet.PivotTables(\"Сводная таблица1\").PivotFields(\"Дата\").ClearAllFilters\n",
    "# wb.api.ActiveSheet.PivotTables(\"Сводная таблица1\").PivotFields(\"Дата\").CurrentPage = t.strftime(\"%d.%m.%Y\") #\"11/3/2022\"\n",
    "wb.save()\n",
    "wb.close() \n",
    "\"\"\""
   ]
  },
  {
   "cell_type": "code",
   "execution_count": 6,
   "metadata": {},
   "outputs": [],
   "source": [
    "# __VIP_ОПП_по ТМ_от_МИ_src_ext\n",
    "# wb = xw.Book(file_path_VIP_OPP_by_TM)\n",
    "# wb.api.RefreshAll()\n",
    "# wb.save()\n",
    "# wb.close()"
   ]
  },
  {
   "cell_type": "code",
   "execution_count": 7,
   "metadata": {},
   "outputs": [
    {
     "data": {
      "text/plain": [
       "WindowsPath('D:/Analytik/1_Динамика ОПП/_22052024_ОПП_Кол-во заказов кратко.xlsx')"
      ]
     },
     "execution_count": 7,
     "metadata": {},
     "output_type": "execute_result"
    }
   ],
   "source": [
    "# __ВИП_Кол-во заказов кратко\n",
    "wb = xw.Book(file_path_number_of_orders_briefly_vip)\n",
    "wb.sheets['Лист3'].select()\n",
    "wb.api.ActiveSheet.PivotTables('Сводная таблица1').PivotCache().Refresh()\n",
    "wb.save()\n",
    "wb.close()\n",
    "copyfile(file_path_number_of_orders_briefly_vip, file_path_number_of_orders_briefly_vip_copy)"
   ]
  },
  {
   "cell_type": "code",
   "execution_count": 8,
   "metadata": {},
   "outputs": [
    {
     "name": "stdout",
     "output_type": "stream",
     "text": [
      "Refreshing data...\n",
      "Finished!\n"
     ]
    },
    {
     "data": {
      "text/plain": [
       "WindowsPath('D:/Analytik/1_Динамика ОПП/_22052024_ОПП_Динамика продаж-возвраты.xlsx')"
      ]
     },
     "execution_count": 8,
     "metadata": {},
     "output_type": "execute_result"
    }
   ],
   "source": [
    "#__ВИП_Динамика продаж-возвраты\n",
    "wb = xw.Book(file_path_dinamic_vip)\n",
    "\n",
    "# Disable Background Refresh to allow RefreshAll to complete\n",
    "# https://www.excelcampus.com/vba/enable-background-refresh-on-all-power-query-connections/\n",
    "wb.api.Connections(1).OLEDBConnection.BackgroundQuery = False\n",
    "# Reference: https://stackoverflow.com/questions/53871709/refreshall-in-excel-file-with-xlwings\n",
    "# Perform RefreshAll on the data\n",
    "print(\"Refreshing data...\")\n",
    "wb.api.RefreshAll()\n",
    "print(\"Finished!\")\n",
    "# Re-enable Background Refresh as it was by default\n",
    "wb.api.Connections(1).OLEDBConnection.BackgroundQuery = True\n",
    "\n",
    "wb.save()\n",
    "wb.close()\n",
    "copyfile(file_path_dinamic_vip, file_path_dinamic_vip_copy)"
   ]
  },
  {
   "cell_type": "code",
   "execution_count": 9,
   "metadata": {},
   "outputs": [
    {
     "name": "stdout",
     "output_type": "stream",
     "text": [
      "Refreshing data...\n",
      "Finished!\n"
     ]
    },
    {
     "data": {
      "text/plain": [
       "WindowsPath('D:/Analytik/1_Динамика ФЕРМА/22052024_Активные_Т_Т_с_кол_вом_ТТ_ФЕРМА.xlsx')"
      ]
     },
     "execution_count": 9,
     "metadata": {},
     "output_type": "execute_result"
    }
   ],
   "source": [
    "#_Активные_Т_Т_с_кол_вом_ТТ_ФЕРМА\n",
    "wb = xw.Book(file_path_active_tt)\n",
    "\n",
    "wb.api.Connections(4).OLEDBConnection.BackgroundQuery = False\n",
    "print(\"Refreshing data...\")\n",
    "wb.api.RefreshAll()\n",
    "print(\"Finished!\")\n",
    "wb.api.Connections(4).OLEDBConnection.BackgroundQuery = True\n",
    "\n",
    "wb.api.RefreshAll()\n",
    "wb.save()\n",
    "wb.close()\n",
    "copyfile(file_path_active_tt, file_path_active_tt_copy)"
   ]
  },
  {
   "cell_type": "code",
   "execution_count": 10,
   "metadata": {},
   "outputs": [
    {
     "data": {
      "text/plain": [
       "WindowsPath('D:/Analytik/1_Динамика ФЕРМА/22052024_Динамика возвраты_ФЕРМА.xlsx')"
      ]
     },
     "execution_count": 10,
     "metadata": {},
     "output_type": "execute_result"
    }
   ],
   "source": [
    "#_Динамика возвраты_ФЕРМА\n",
    "wb = xw.Book(file_path_dinamic_ferma)\n",
    "wb.api.RefreshAll()\n",
    "wb.save()\n",
    "wb.close()\n",
    "copyfile(file_path_dinamic_ferma, file_path_dinamic_ferma_copy)   "
   ]
  },
  {
   "cell_type": "code",
   "execution_count": 11,
   "metadata": {},
   "outputs": [
    {
     "data": {
      "text/plain": [
       "WindowsPath('D:/Analytik/1_Динамика ФЕРМА/22052024_Кол-во заказов кратко_ФЕРМА.xlsx')"
      ]
     },
     "execution_count": 11,
     "metadata": {},
     "output_type": "execute_result"
    }
   ],
   "source": [
    "#_Кол-во заказов кратко_ФЕРМА\n",
    "wb = xw.Book(file_path_number_of_orders_briefly_ferma)\n",
    "wb.api.RefreshAll()\n",
    "wb.save()\n",
    "wb.close()\n",
    "copyfile(file_path_number_of_orders_briefly_ferma, file_path_number_of_orders_briefly_ferma_copy)"
   ]
  },
  {
   "cell_type": "code",
   "execution_count": 12,
   "metadata": {},
   "outputs": [
    {
     "data": {
      "text/plain": [
       "WindowsPath('D:/Analytik/1_Динамика ФЕРМА/22052024_Факт по товарным группам_ФЕРМА.xlsx')"
      ]
     },
     "execution_count": 12,
     "metadata": {},
     "output_type": "execute_result"
    }
   ],
   "source": [
    "#_Факт по товарным группам_ФЕРМА\n",
    "wb = xw.Book(file_path_fact_by_group)\n",
    "wb.api.RefreshAll()\n",
    "wb.save()\n",
    "wb.close()\n",
    "copyfile(file_path_fact_by_group, file_path_fact_by_group_copy)"
   ]
  },
  {
   "cell_type": "code",
   "execution_count": 13,
   "metadata": {},
   "outputs": [
    {
     "data": {
      "text/plain": [
       "WindowsPath('D:/Analytik/1_Динамика ФЕРМА/22052024_Целевое планирование ФЕРМА.xlsx')"
      ]
     },
     "execution_count": 13,
     "metadata": {},
     "output_type": "execute_result"
    }
   ],
   "source": [
    "#_Целевое планирование ФЕРМА\n",
    "wb = xw.Book(file_path_target_planing)\n",
    "wb.api.RefreshAll()\n",
    "wb.save()\n",
    "wb.close()\n",
    "copyfile(file_path_target_planing, file_path_target_planing_copy)"
   ]
  },
  {
   "cell_type": "code",
   "execution_count": 14,
   "metadata": {},
   "outputs": [],
   "source": [
    "# app_excel.kill()\n",
    "# del app_excel\n"
   ]
  },
  {
   "cell_type": "code",
   "execution_count": 15,
   "metadata": {},
   "outputs": [
    {
     "data": {
      "text/plain": [
       "10.424159344037374"
      ]
     },
     "execution_count": 15,
     "metadata": {},
     "output_type": "execute_result"
    }
   ],
   "source": [
    "(t.time() - ts1)/60"
   ]
  },
  {
   "cell_type": "code",
   "execution_count": null,
   "metadata": {},
   "outputs": [],
   "source": []
  }
 ],
 "metadata": {
  "kernelspec": {
   "display_name": "Python 3.8.8 ('base')",
   "language": "python",
   "name": "python3"
  },
  "language_info": {
   "codemirror_mode": {
    "name": "ipython",
    "version": 3
   },
   "file_extension": ".py",
   "mimetype": "text/x-python",
   "name": "python",
   "nbconvert_exporter": "python",
   "pygments_lexer": "ipython3",
   "version": "3.8.8"
  },
  "orig_nbformat": 4,
  "vscode": {
   "interpreter": {
    "hash": "aa115ce318be3a3f8b6d91ff0b01768b0c65c6347d86fae4b9dcf7b7e714cae1"
   }
  }
 },
 "nbformat": 4,
 "nbformat_minor": 2
}

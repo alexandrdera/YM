{
 "cells": [
  {
   "cell_type": "code",
   "execution_count": 1,
   "metadata": {},
   "outputs": [],
   "source": [
    "import pandas as pd\n",
    "import time as t\n",
    "from pathlib import Path\n",
    "import xlwings as xw\n",
    "from shutil import copyfile"
   ]
  },
  {
   "cell_type": "code",
   "execution_count": 2,
   "metadata": {},
   "outputs": [],
   "source": [
    "ts1 = t.time()"
   ]
  },
  {
   "cell_type": "code",
   "execution_count": 3,
   "metadata": {},
   "outputs": [],
   "source": [
    "time_stamp = t.strftime(\"%d%m%Y\")\n",
    "\n",
    "# Динамика Главмолоко\n",
    "file_path_active_tt = Path(\"D:/Analytik/ОТЧЕТЫ для передачи/3_Динамика ГМ/\", \"_Активные_Т_Т_с_кол_вом_ТТ_ГМ.xlsx\")\n",
    "file_path_active_tt_copy = Path(\"D:/Analytik/ОТЧЕТЫ для передачи/3_Динамика ГМ/\", time_stamp + \"_Активные_Т_Т_с_кол_вом_ТТ_ГМ.xlsx\")\n",
    "\n",
    "file_path_dinamic_ferma = Path(\"D:/Analytik/ОТЧЕТЫ для передачи/3_Динамика ГМ/\", \"_Динамика_продаж_возвраты_ГМ.xlsx\")\n",
    "file_path_dinamic_ferma_copy = Path(\"D:/Analytik/ОТЧЕТЫ для передачи/3_Динамика ГМ/\", time_stamp + \"_Динамика_продаж_возвраты_ГМ.xlsx\")\n",
    "\n",
    "file_path_number_of_orders_briefly_ferma = Path(\"D:/Analytik/ОТЧЕТЫ для передачи/3_Динамика ГМ/\", \"_Кол-во заказов кратко_ГМ.xlsx\")\n",
    "file_path_number_of_orders_briefly_ferma_copy = Path(\"D:/Analytik/ОТЧЕТЫ для передачи/3_Динамика ГМ/\", time_stamp + \"_Кол-во заказов кратко_ГМ.xlsx\")\n",
    "\n",
    "file_path_fact_by_group = Path(\"D:/Analytik/ОТЧЕТЫ для передачи/3_Динамика ГМ/\", \"_Сводная ГМ.xlsx\")\n",
    "file_path_fact_by_group_copy = Path(\"D:/Analytik/ОТЧЕТЫ для передачи/3_Динамика ГМ/\", time_stamp + \"_Сводная ГМ.xlsx\")\n",
    "\n",
    "file_path_target_planing = Path(\"D:/Analytik/ОТЧЕТЫ для передачи/3_Динамика ГМ/\", \"_Целевое планирование ГМ.xlsx\")\n",
    "file_path_target_planing_copy = Path(\"D:/Analytik/ОТЧЕТЫ для передачи/3_Динамика ГМ/\", time_stamp + \"_Целевое планирование ГМ.xlsx\")\n"
   ]
  },
  {
   "cell_type": "code",
   "execution_count": 9,
   "metadata": {},
   "outputs": [
    {
     "name": "stdout",
     "output_type": "stream",
     "text": [
      "Refreshing data...\n",
      "Finished!\n"
     ]
    },
    {
     "data": {
      "text/plain": [
       "WindowsPath('D:/Analytik/1_Динамика ФЕРМА/22052024_Активные_Т_Т_с_кол_вом_ТТ_ФЕРМА.xlsx')"
      ]
     },
     "execution_count": 9,
     "metadata": {},
     "output_type": "execute_result"
    }
   ],
   "source": [
    "#_Активные_Т_Т_с_кол_вом_ТТ_ГМ\n",
    "wb = xw.Book(file_path_active_tt)\n",
    "\n",
    "wb.api.Connections(4).OLEDBConnection.BackgroundQuery = False\n",
    "print(\"Refreshing data...\")\n",
    "wb.api.RefreshAll()\n",
    "print(\"Finished!\")\n",
    "wb.api.Connections(4).OLEDBConnection.BackgroundQuery = True\n",
    "\n",
    "wb.api.RefreshAll()\n",
    "wb.save()\n",
    "wb.close()\n",
    "copyfile(file_path_active_tt, file_path_active_tt_copy)"
   ]
  },
  {
   "cell_type": "code",
   "execution_count": 10,
   "metadata": {},
   "outputs": [
    {
     "data": {
      "text/plain": [
       "WindowsPath('D:/Analytik/1_Динамика ФЕРМА/22052024_Динамика возвраты_ФЕРМА.xlsx')"
      ]
     },
     "execution_count": 10,
     "metadata": {},
     "output_type": "execute_result"
    }
   ],
   "source": [
    "#_Динамика_продаж_возвраты_ГМ\n",
    "wb = xw.Book(file_path_dinamic_ferma)\n",
    "wb.api.RefreshAll()\n",
    "wb.save()\n",
    "wb.close()\n",
    "copyfile(file_path_dinamic_ferma, file_path_dinamic_ferma_copy)   "
   ]
  },
  {
   "cell_type": "code",
   "execution_count": 11,
   "metadata": {},
   "outputs": [
    {
     "data": {
      "text/plain": [
       "WindowsPath('D:/Analytik/1_Динамика ФЕРМА/22052024_Кол-во заказов кратко_ФЕРМА.xlsx')"
      ]
     },
     "execution_count": 11,
     "metadata": {},
     "output_type": "execute_result"
    }
   ],
   "source": [
    "#_Кол-во заказов кратко_ГМ\n",
    "wb = xw.Book(file_path_number_of_orders_briefly_ferma)\n",
    "wb.api.RefreshAll()\n",
    "wb.save()\n",
    "wb.close()\n",
    "copyfile(file_path_number_of_orders_briefly_ferma, file_path_number_of_orders_briefly_ferma_copy)"
   ]
  },
  {
   "cell_type": "code",
   "execution_count": 12,
   "metadata": {},
   "outputs": [
    {
     "data": {
      "text/plain": [
       "WindowsPath('D:/Analytik/1_Динамика ФЕРМА/22052024_Факт по товарным группам_ФЕРМА.xlsx')"
      ]
     },
     "execution_count": 12,
     "metadata": {},
     "output_type": "execute_result"
    }
   ],
   "source": [
    "#_Сводная ГМ\n",
    "wb = xw.Book(file_path_fact_by_group)\n",
    "wb.api.RefreshAll()\n",
    "wb.save()\n",
    "wb.close()\n",
    "copyfile(file_path_fact_by_group, file_path_fact_by_group_copy)"
   ]
  },
  {
   "cell_type": "code",
   "execution_count": 13,
   "metadata": {},
   "outputs": [
    {
     "data": {
      "text/plain": [
       "WindowsPath('D:/Analytik/1_Динамика ФЕРМА/22052024_Целевое планирование ФЕРМА.xlsx')"
      ]
     },
     "execution_count": 13,
     "metadata": {},
     "output_type": "execute_result"
    }
   ],
   "source": [
    "#_Целевое планирование ГМ\n",
    "wb = xw.Book(file_path_target_planing)\n",
    "wb.api.RefreshAll()\n",
    "wb.save()\n",
    "wb.close()\n",
    "copyfile(file_path_target_planing, file_path_target_planing_copy)"
   ]
  },
  {
   "cell_type": "code",
   "execution_count": 14,
   "metadata": {},
   "outputs": [],
   "source": [
    "# app_excel.kill()\n",
    "# del app_excel\n"
   ]
  },
  {
   "cell_type": "code",
   "execution_count": 15,
   "metadata": {},
   "outputs": [
    {
     "data": {
      "text/plain": [
       "10.424159344037374"
      ]
     },
     "execution_count": 15,
     "metadata": {},
     "output_type": "execute_result"
    }
   ],
   "source": [
    "(t.time() - ts1)/60"
   ]
  },
  {
   "cell_type": "code",
   "execution_count": null,
   "metadata": {},
   "outputs": [],
   "source": []
  }
 ],
 "metadata": {
  "kernelspec": {
   "display_name": "Python 3.8.8 ('base')",
   "language": "python",
   "name": "python3"
  },
  "language_info": {
   "codemirror_mode": {
    "name": "ipython",
    "version": 3
   },
   "file_extension": ".py",
   "mimetype": "text/x-python",
   "name": "python",
   "nbconvert_exporter": "python",
   "pygments_lexer": "ipython3",
   "version": "3.8.8"
  },
  "orig_nbformat": 4,
  "vscode": {
   "interpreter": {
    "hash": "aa115ce318be3a3f8b6d91ff0b01768b0c65c6347d86fae4b9dcf7b7e714cae1"
   }
  }
 },
 "nbformat": 4,
 "nbformat_minor": 2
}

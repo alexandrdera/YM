{
 "cells": [
  {
   "cell_type": "code",
   "execution_count": 1,
   "metadata": {},
   "outputs": [],
   "source": [
    "import pandas as pd\n",
    "import time as t\n",
    "from pathlib import Path\n",
    "import xlwings as xw\n",
    "from shutil import copyfile"
   ]
  },
  {
   "cell_type": "code",
   "execution_count": 2,
   "metadata": {},
   "outputs": [],
   "source": [
    "ts1 = t.time()"
   ]
  },
  {
   "cell_type": "code",
   "execution_count": 3,
   "metadata": {},
   "outputs": [],
   "source": [
    "time_stamp = t.strftime(\"%d%m%Y\")\n",
    "file_path_VIP_PRS = Path(\"D:/Analytik/1_Динамика ВИП/\", \"__ВИП_ПРС отгрузки по дням.xlsx\")\n",
    "file_path_PRS_by_day = Path(\"D:/Analytik/1_Динамика ВИП/\", \"__Отгрузки ПРС по дням и отделам МИ.xlsx\")\n",
    "file_path_number_of_orders_briefly = Path(\"D:/Analytik/1_Динамика ВИП/\", \"__ВИП_Кол-во заказов кратко.xlsx\")\n",
    "file_path_number_of_orders_briefly_copy = Path(\"D:/Analytik/1_Динамика ВИП/\", \"_\"+ time_stamp +\"_ВИП_Кол-во заказов кратко.xlsx\")\n"
   ]
  },
  {
   "cell_type": "code",
   "execution_count": 11,
   "metadata": {},
   "outputs": [],
   "source": [
    "# __Отгрузки ПРС по дням и отделам МИ\n",
    "app_excel = xw.App(visible = False)\n",
    "wb = xw.Book(file_path_PRS_by_day)\n",
    "wb.api.RefreshAll()\n",
    "wb.save()"
   ]
  },
  {
   "cell_type": "code",
   "execution_count": 16,
   "metadata": {},
   "outputs": [],
   "source": [
    "# __ВИП_ПРС отгрузки по дням\n",
    "wb = xw.Book(file_path_VIP_PRS)\n",
    "wb.api.RefreshAll()\n",
    "wb.api.ActiveSheet.PivotTables(\"Сводная таблица1\").PivotFields(\"Дата\").ClearAllFilters\n",
    "# wb.api.ActiveSheet.PivotTables(\"Сводная таблица1\").PivotFields(\"Дата\").CurrentPage = t.strftime(\"%d.%m.%Y\") #\"11/3/2022\"\n",
    "wb.save()"
   ]
  },
  {
   "cell_type": "code",
   "execution_count": 6,
   "metadata": {},
   "outputs": [
    {
     "data": {
      "text/plain": [
       "WindowsPath('D:/Analytik/1_Динамика ВИП/_05122022_ВИП_Кол-во заказов кратко.xlsx')"
      ]
     },
     "execution_count": 6,
     "metadata": {},
     "output_type": "execute_result"
    }
   ],
   "source": [
    "# __ВИП_Кол-во заказов кратко\n",
    "wb = xw.Book(file_path_number_of_orders_briefly)\n",
    "wb.sheets['Лист3'].select()\n",
    "wb.api.ActiveSheet.PivotTables('Сводная таблица1').PivotCache().Refresh()\n",
    "wb.save()\n",
    "copyfile(file_path_number_of_orders_briefly, file_path_number_of_orders_briefly_copy)    "
   ]
  },
  {
   "cell_type": "code",
   "execution_count": 17,
   "metadata": {},
   "outputs": [],
   "source": [
    "wb.close()\n",
    "# app_excel.kill()\n",
    "# del app_excel\n"
   ]
  },
  {
   "cell_type": "code",
   "execution_count": 8,
   "metadata": {},
   "outputs": [
    {
     "data": {
      "text/plain": [
       "28.45598030090332"
      ]
     },
     "execution_count": 8,
     "metadata": {},
     "output_type": "execute_result"
    }
   ],
   "source": [
    "t.time() - ts1"
   ]
  }
 ],
 "metadata": {
  "kernelspec": {
   "display_name": "Python 3.8.8 ('base')",
   "language": "python",
   "name": "python3"
  },
  "language_info": {
   "codemirror_mode": {
    "name": "ipython",
    "version": 3
   },
   "file_extension": ".py",
   "mimetype": "text/x-python",
   "name": "python",
   "nbconvert_exporter": "python",
   "pygments_lexer": "ipython3",
   "version": "3.8.8"
  },
  "orig_nbformat": 4,
  "vscode": {
   "interpreter": {
    "hash": "aa115ce318be3a3f8b6d91ff0b01768b0c65c6347d86fae4b9dcf7b7e714cae1"
   }
  }
 },
 "nbformat": 4,
 "nbformat_minor": 2
}
